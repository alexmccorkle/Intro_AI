{
 "cells": [
  {
   "cell_type": "code",
   "execution_count": 50,
   "metadata": {},
   "outputs": [],
   "source": [
    "# Necessary Imports:\n",
    "%matplotlib inline\n",
    "import pandas as pd\n",
    "import numpy as np\n",
    "import matplotlib.pyplot as plt\n",
    "import seaborn as sns\n",
    "\n"
   ]
  },
  {
   "cell_type": "markdown",
   "metadata": {},
   "source": [
    "___\n",
    "## 1:\n",
    "### Read the CSV file in Pandas and create a DataFrame named Grc_df. What is the number of rows and columns in Grc_df? Print the first 10 and last 10 rows of Grc_df.\n"
   ]
  },
  {
   "cell_type": "code",
   "execution_count": 51,
   "metadata": {},
   "outputs": [
    {
     "name": "stdout",
     "output_type": "stream",
     "text": [
      "<class 'pandas.core.frame.DataFrame'>\n",
      "RangeIndex: 5000 entries, 0 to 4999\n",
      "Data columns (total 12 columns):\n",
      " #   Column                     Non-Null Count  Dtype  \n",
      "---  ------                     --------------  -----  \n",
      " 0   Item_Identifier            5000 non-null   object \n",
      " 1   Item_Weight                4182 non-null   float64\n",
      " 2   Item_Fat_Content           5000 non-null   object \n",
      " 3   Item_Visibility            5000 non-null   float64\n",
      " 4   Item_Type                  5000 non-null   object \n",
      " 5   Item_MRP                   5000 non-null   float64\n",
      " 6   Outlet_Identifier          5000 non-null   object \n",
      " 7   Outlet_Establishment_Year  5000 non-null   int64  \n",
      " 8   Outlet_Size                3561 non-null   object \n",
      " 9   Outlet_Location_Type       5000 non-null   object \n",
      " 10  Outlet_Type                5000 non-null   object \n",
      " 11  Item_Outlet_Sales          5000 non-null   float64\n",
      "dtypes: float64(4), int64(1), object(7)\n",
      "memory usage: 468.9+ KB\n"
     ]
    }
   ],
   "source": [
    "# Reading CSV file:\n",
    "Grc_df = pd.read_csv('./Grocery_dataset.csv')\n",
    "\n",
    "\n",
    "Grc_df.info() # Tells us there are 5000 rows(entries) and 12 columns\n",
    "\n"
   ]
  },
  {
   "cell_type": "code",
   "execution_count": 52,
   "metadata": {},
   "outputs": [
    {
     "name": "stdout",
     "output_type": "stream",
     "text": [
      "  Item_Identifier  Item_Weight Item_Fat_Content  Item_Visibility  \\\n",
      "0           FDA15        9.300          Low Fat         0.016047   \n",
      "1           DRC01        5.920          Regular         0.019278   \n",
      "2           FDN15       17.500          Low Fat         0.016760   \n",
      "3           FDX07       19.200          Regular         0.000000   \n",
      "4           NCD19        8.930          Low Fat         0.000000   \n",
      "5           FDP36       10.395          Regular         0.000000   \n",
      "6           FDO10       13.650          Regular         0.012741   \n",
      "7           FDP10          NaN          Low Fat         0.127470   \n",
      "8           FDH17       16.200          Regular         0.016687   \n",
      "9           FDU28       19.200          Regular         0.094450   \n",
      "\n",
      "               Item_Type  Item_MRP Outlet_Identifier  \\\n",
      "0                  Dairy  249.8092            OUT049   \n",
      "1            Soft Drinks   48.2692            OUT018   \n",
      "2                   Meat  141.6180            OUT049   \n",
      "3  Fruits and Vegetables  182.0950            OUT010   \n",
      "4              Household   53.8614            OUT013   \n",
      "5           Baking Goods   51.4008            OUT018   \n",
      "6            Snack Foods   57.6588            OUT013   \n",
      "7            Snack Foods  107.7622            OUT027   \n",
      "8           Frozen Foods   96.9726            OUT045   \n",
      "9           Frozen Foods  187.8214            OUT017   \n",
      "\n",
      "   Outlet_Establishment_Year Outlet_Size Outlet_Location_Type  \\\n",
      "0                       1999      Medium               Tier 1   \n",
      "1                       2009      Medium               Tier 3   \n",
      "2                       1999      Medium               Tier 1   \n",
      "3                       1998         NaN               Tier 3   \n",
      "4                       1987        High               Tier 3   \n",
      "5                       2009      Medium               Tier 3   \n",
      "6                       1987        High               Tier 3   \n",
      "7                       1985      Medium               Tier 3   \n",
      "8                       2002         NaN               Tier 2   \n",
      "9                       2007         NaN               Tier 2   \n",
      "\n",
      "         Outlet_Type  Item_Outlet_Sales  \n",
      "0  Supermarket Type1          3735.1380  \n",
      "1  Supermarket Type2           443.4228  \n",
      "2  Supermarket Type1          2097.2700  \n",
      "3      Grocery Store           732.3800  \n",
      "4  Supermarket Type1           994.7052  \n",
      "5  Supermarket Type2           556.6088  \n",
      "6  Supermarket Type1           343.5528  \n",
      "7  Supermarket Type3          4022.7636  \n",
      "8  Supermarket Type1          1076.5986  \n",
      "9  Supermarket Type1          4710.5350  \n",
      "     Item_Identifier  Item_Weight Item_Fat_Content  Item_Visibility  \\\n",
      "4990           FDE46        18.60          Low Fat         0.015859   \n",
      "4991           NCQ53        17.60          Low Fat         0.018905   \n",
      "4992           NCN42        20.25          Low Fat         0.014281   \n",
      "4993           DRH11         5.98          Low Fat         0.075675   \n",
      "4994           NCI42        18.75          Low Fat         0.010382   \n",
      "4995           FDT07         5.82          Regular         0.077476   \n",
      "4996           DRL60         8.52          Low Fat         0.027059   \n",
      "4997           FDG20        15.50          Regular         0.126200   \n",
      "4998           FDF56        16.70          Regular         0.119462   \n",
      "4999           FDV33         9.60          Regular         0.027455   \n",
      "\n",
      "                  Item_Type  Item_MRP Outlet_Identifier  \\\n",
      "4990            Snack Foods  152.9366            OUT017   \n",
      "4991     Health and Hygiene  234.6590            OUT046   \n",
      "4992              Household  148.0418            OUT018   \n",
      "4993            Hard Drinks   53.3614            OUT049   \n",
      "4994              Household  207.8954            OUT049   \n",
      "4995  Fruits and Vegetables  255.3330            OUT045   \n",
      "4996            Soft Drinks  153.3682            OUT046   \n",
      "4997  Fruits and Vegetables  178.4028            OUT018   \n",
      "4998  Fruits and Vegetables  182.7976            OUT046   \n",
      "4999            Snack Foods  258.1304            OUT018   \n",
      "\n",
      "      Outlet_Establishment_Year Outlet_Size Outlet_Location_Type  \\\n",
      "4990                       2007         NaN               Tier 2   \n",
      "4991                       1997       Small               Tier 1   \n",
      "4992                       2009      Medium               Tier 3   \n",
      "4993                       1999      Medium               Tier 1   \n",
      "4994                       1999      Medium               Tier 1   \n",
      "4995                       2002         NaN               Tier 2   \n",
      "4996                       1997       Small               Tier 1   \n",
      "4997                       2009      Medium               Tier 3   \n",
      "4998                       1997       Small               Tier 1   \n",
      "4999                       2009      Medium               Tier 3   \n",
      "\n",
      "            Outlet_Type  Item_Outlet_Sales  \n",
      "4990  Supermarket Type1           453.4098  \n",
      "4991  Supermarket Type1          8508.9240  \n",
      "4992  Supermarket Type2          1177.1344  \n",
      "4993  Supermarket Type1           331.5684  \n",
      "4994  Supermarket Type1          2292.3494  \n",
      "4995  Supermarket Type1          4870.3270  \n",
      "4996  Supermarket Type1           914.8092  \n",
      "4997  Supermarket Type2          1239.7196  \n",
      "4998  Supermarket Type1          1810.9760  \n",
      "4999  Supermarket Type2          2324.9736  \n"
     ]
    }
   ],
   "source": [
    "# Printing both first and last 10 rows of df: (Get's truncated, might need to view as scrollable to see all info)\n",
    "print(Grc_df.head(10))\n",
    "print(Grc_df.tail(10))"
   ]
  },
  {
   "cell_type": "markdown",
   "metadata": {},
   "source": [
    "___\n",
    "## 2.\n",
    "### Are there any null values in the Grc_df? If yes, then in which columns and how many? Finally handle these null values using any strategy shown during the labs."
   ]
  },
  {
   "cell_type": "code",
   "execution_count": 53,
   "metadata": {},
   "outputs": [
    {
     "name": "stdout",
     "output_type": "stream",
     "text": [
      "Item_Identifier                 0\n",
      "Item_Weight                   818\n",
      "Item_Fat_Content                0\n",
      "Item_Visibility                 0\n",
      "Item_Type                       0\n",
      "Item_MRP                        0\n",
      "Outlet_Identifier               0\n",
      "Outlet_Establishment_Year       0\n",
      "Outlet_Size                  1439\n",
      "Outlet_Location_Type            0\n",
      "Outlet_Type                     0\n",
      "Item_Outlet_Sales               0\n",
      "dtype: int64\n"
     ]
    }
   ],
   "source": [
    "# Identifying the different null values:\n",
    "print(Grc_df.isna().sum())\n",
    "\n",
    "# 818 null values for Item_Weight and 1439 for Outlet_Size"
   ]
  },
  {
   "cell_type": "code",
   "execution_count": 54,
   "metadata": {},
   "outputs": [
    {
     "name": "stdout",
     "output_type": "stream",
     "text": [
      "Item_Identifier              0\n",
      "Item_Weight                  0\n",
      "Item_Fat_Content             0\n",
      "Item_Visibility              0\n",
      "Item_Type                    0\n",
      "Item_MRP                     0\n",
      "Outlet_Identifier            0\n",
      "Outlet_Establishment_Year    0\n",
      "Outlet_Size                  0\n",
      "Outlet_Location_Type         0\n",
      "Outlet_Type                  0\n",
      "Item_Outlet_Sales            0\n",
      "dtype: int64\n"
     ]
    }
   ],
   "source": [
    "# Since it's quite a lot of null values for Item_Weight and Outlet_Size I will fill them instead of dropping them\n",
    "# Filling Item_Weight: Using mean since it's numerical data\n",
    "Grc_df['Item_Weight'].fillna(Grc_df['Item_Weight'].mean(), inplace=True)\n",
    "\n",
    "# Filling Outlet_size: Using Mode since this is categorical data\n",
    "Grc_df['Outlet_Size'].fillna(Grc_df['Outlet_Size'].mode()[0], inplace = True)\n",
    "\n",
    "print(Grc_df.isna().sum())"
   ]
  },
  {
   "cell_type": "markdown",
   "metadata": {},
   "source": [
    "___\n",
    "## 3.\n",
    "### How many unique Outlet Sizes are there in the Grc_df? Which outlet size is maximum, and which is minimum?"
   ]
  },
  {
   "cell_type": "code",
   "execution_count": 55,
   "metadata": {},
   "outputs": [
    {
     "name": "stdout",
     "output_type": "stream",
     "text": [
      "Number of Unique Sizes: 3\n",
      "\n",
      " Frequency of each outlet size value: \n",
      " Outlet_Size\n",
      "Medium    3044\n",
      "Small     1398\n",
      "High       558\n",
      "Name: count, dtype: int64\n",
      "\n",
      " Maximum = Medium and minimum = High\n"
     ]
    }
   ],
   "source": [
    "\n",
    "# Finding the number of uniques:\n",
    "unique_sizes = Grc_df['Outlet_Size'].nunique()\n",
    "print(f\"Number of Unique Sizes: {unique_sizes}\")\n",
    "\n",
    "# Finding the count of each unique:\n",
    "outlet_size_counts = Grc_df['Outlet_Size'].value_counts()\n",
    "print(f\"\\n Frequency of each outlet size value: \\n {outlet_size_counts}\")\n",
    "\n",
    "# Calculating Maximum and Minimum (Assuming the assignment question meant to find the max/min in terms of frequency):\n",
    "maximum_outlet = outlet_size_counts.idxmax()\n",
    "minimum_outlet = outlet_size_counts.idxmin() \n",
    "\n",
    "print(f\"\\n Maximum = {maximum_outlet} and minimum = {minimum_outlet}\")"
   ]
  },
  {
   "cell_type": "markdown",
   "metadata": {},
   "source": [
    "___\n",
    "## 4.\n",
    "### How many unique Item Fat Content types are in the Grc_df? List them. Do you see any issues with the Fat Content types? If yes, then handle this issue. \n"
   ]
  },
  {
   "cell_type": "code",
   "execution_count": 56,
   "metadata": {},
   "outputs": [
    {
     "name": "stdout",
     "output_type": "stream",
     "text": [
      "Number of Unique Fat Contents: 5\n",
      "\n",
      " Frequency of each fat content: \n",
      " Item_Fat_Content\n",
      "Low Fat    3008\n",
      "Regular    1679\n",
      "LF          183\n",
      "reg          68\n",
      "low fat      62\n",
      "Name: count, dtype: int64\n"
     ]
    }
   ],
   "source": [
    "\n",
    "# Finding the number of uniques:\n",
    "unique_fat_sizes = Grc_df['Item_Fat_Content'].nunique()\n",
    "print(f\"Number of Unique Fat Contents: {unique_fat_sizes}\")\n",
    "\n",
    "# Finding the count of each unique:\n",
    "fat_counts = Grc_df['Item_Fat_Content'].value_counts()\n",
    "print(f\"\\n Frequency of each fat content: \\n {fat_counts}\")\n"
   ]
  },
  {
   "cell_type": "code",
   "execution_count": 57,
   "metadata": {},
   "outputs": [
    {
     "name": "stdout",
     "output_type": "stream",
     "text": [
      "Number of Unique Fat Contents: 2\n",
      "\n",
      " Frequency of each fat content: \n",
      " Item_Fat_Content\n",
      "0    3253\n",
      "1    1747\n",
      "Name: count, dtype: int64\n"
     ]
    }
   ],
   "source": [
    "\n",
    "# Issue is that there are 3 unique categories for Low Fat (Low Fat, LF and low fat) and 2 unique categories for Regular (Regular, reg)\n",
    "# To fix we need to turn this into two categories instead of 5.\n",
    "\n",
    "Grc_df['Item_Fat_Content'] = Grc_df['Item_Fat_Content'].replace({\n",
    "  'low fat' : 'Low Fat',\n",
    "  'LF' : 'Low Fat', \n",
    "  'reg' : 'Regular'\n",
    "})\n",
    "\n",
    "# Since there are now only two categories : Low Fat and Regular, we might want to convert to Binary for potential machine learning use:\n",
    "Grc_df['Item_Fat_Content'] = Grc_df['Item_Fat_Content'].replace({\n",
    "  'Low Fat' : 0,\n",
    "  'Regular' : 1\n",
    "})\n",
    "\n",
    "# Finding the number of uniques:\n",
    "unique_fat_sizes = Grc_df['Item_Fat_Content'].nunique()\n",
    "print(f\"Number of Unique Fat Contents: {unique_fat_sizes}\")\n",
    "\n",
    "# Finding the count of each unique:\n",
    "fat_counts = Grc_df['Item_Fat_Content'].value_counts()\n",
    "print(f\"\\n Frequency of each fat content: \\n {fat_counts}\")\n"
   ]
  },
  {
   "cell_type": "markdown",
   "metadata": {},
   "source": [
    "___\n",
    "## 5.\n",
    "### Drop the columns having index values of 0,6 and create a new Dataframe Grc_new_df."
   ]
  },
  {
   "cell_type": "code",
   "execution_count": 58,
   "metadata": {},
   "outputs": [
    {
     "name": "stdout",
     "output_type": "stream",
     "text": [
      "<class 'pandas.core.frame.DataFrame'>\n",
      "RangeIndex: 5000 entries, 0 to 4999\n",
      "Data columns (total 10 columns):\n",
      " #   Column                     Non-Null Count  Dtype  \n",
      "---  ------                     --------------  -----  \n",
      " 0   Item_Weight                5000 non-null   float64\n",
      " 1   Item_Fat_Content           5000 non-null   int64  \n",
      " 2   Item_Visibility            5000 non-null   float64\n",
      " 3   Item_Type                  5000 non-null   object \n",
      " 4   Item_MRP                   5000 non-null   float64\n",
      " 5   Outlet_Establishment_Year  5000 non-null   int64  \n",
      " 6   Outlet_Size                5000 non-null   object \n",
      " 7   Outlet_Location_Type       5000 non-null   object \n",
      " 8   Outlet_Type                5000 non-null   object \n",
      " 9   Item_Outlet_Sales          5000 non-null   float64\n",
      "dtypes: float64(4), int64(2), object(4)\n",
      "memory usage: 390.8+ KB\n",
      "None\n"
     ]
    }
   ],
   "source": [
    "# To drop columns with index value 0 and 6 we use the drop method.\n",
    "\n",
    "Grc_new_df = Grc_df.drop(columns=Grc_df.columns[[0,6]])\n",
    "\n",
    "print(Grc_new_df.info())\n",
    "# As you can see, Item_Idenfitier(0) and Outlet_Idenfitier(1) are removed\n",
    "\n"
   ]
  },
  {
   "cell_type": "markdown",
   "metadata": {},
   "source": [
    "___\n",
    "## 6.\n",
    "### Using different supermarket type listed in the column Outlet_Type create two different Dataframes from Grc_new_df. Name these Dataframes as SupType_1 and SupType_2. "
   ]
  },
  {
   "cell_type": "code",
   "execution_count": 59,
   "metadata": {},
   "outputs": [
    {
     "name": "stdout",
     "output_type": "stream",
     "text": [
      "<class 'pandas.core.frame.DataFrame'>\n",
      "Index: 3328 entries, 0 to 4998\n",
      "Data columns (total 10 columns):\n",
      " #   Column                     Non-Null Count  Dtype  \n",
      "---  ------                     --------------  -----  \n",
      " 0   Item_Weight                3328 non-null   float64\n",
      " 1   Item_Fat_Content           3328 non-null   int64  \n",
      " 2   Item_Visibility            3328 non-null   float64\n",
      " 3   Item_Type                  3328 non-null   object \n",
      " 4   Item_MRP                   3328 non-null   float64\n",
      " 5   Outlet_Establishment_Year  3328 non-null   int64  \n",
      " 6   Outlet_Size                3328 non-null   object \n",
      " 7   Outlet_Location_Type       3328 non-null   object \n",
      " 8   Outlet_Type                3328 non-null   object \n",
      " 9   Item_Outlet_Sales          3328 non-null   float64\n",
      "dtypes: float64(4), int64(2), object(4)\n",
      "memory usage: 286.0+ KB\n",
      "SupType_1: \n",
      " None\n",
      "<class 'pandas.core.frame.DataFrame'>\n",
      "Index: 526 entries, 1 to 4999\n",
      "Data columns (total 10 columns):\n",
      " #   Column                     Non-Null Count  Dtype  \n",
      "---  ------                     --------------  -----  \n",
      " 0   Item_Weight                526 non-null    float64\n",
      " 1   Item_Fat_Content           526 non-null    int64  \n",
      " 2   Item_Visibility            526 non-null    float64\n",
      " 3   Item_Type                  526 non-null    object \n",
      " 4   Item_MRP                   526 non-null    float64\n",
      " 5   Outlet_Establishment_Year  526 non-null    int64  \n",
      " 6   Outlet_Size                526 non-null    object \n",
      " 7   Outlet_Location_Type       526 non-null    object \n",
      " 8   Outlet_Type                526 non-null    object \n",
      " 9   Item_Outlet_Sales          526 non-null    float64\n",
      "dtypes: float64(4), int64(2), object(4)\n",
      "memory usage: 45.2+ KB\n",
      "SupType_2: \n",
      " None\n"
     ]
    }
   ],
   "source": [
    "# Saving two new df's based on supermarket type:\n",
    "SupType_1 = Grc_new_df[Grc_new_df['Outlet_Type'] == 'Supermarket Type1']\n",
    "SupType_2 = Grc_new_df[Grc_new_df['Outlet_Type'] == 'Supermarket Type2']\n",
    "\n",
    "\n",
    "print(f\"SupType_1: \\n {SupType_1.info()}\")\n",
    "print(f\"SupType_2: \\n {SupType_2.info()}\")"
   ]
  },
  {
   "cell_type": "markdown",
   "metadata": {},
   "source": [
    "___\n",
    "## 7. \n",
    "### Using Seaborn ('ggplot style') create a (2,1) subplot of a box plot showing 5-point summary of the column Item_MRP for SupType_1 and SupType_2. Which outlet type hsa a higher median MRP? Are there any other outliers?"
   ]
  },
  {
   "cell_type": "code",
   "execution_count": 60,
   "metadata": {},
   "outputs": [
    {
     "data": {
      "image/png": "[encoded data removed]",
      "text/plain": [
       "<Figure size 1000x800 with 2 Axes>"
      ]
     },
     "metadata": {},
     "output_type": "display_data"
    }
   ],
   "source": [
    "# Using ggplot like question states\n",
    "plt.style.use('ggplot')\n",
    "\n",
    "fig, axes = plt.subplots(2, 1, figsize=(10, 8))\n",
    "\n",
    "# Calculate five-number summary for SupType_1\n",
    "min1, q1_1, median1, q3_1, max1 = SupType_1['Item_MRP'].min(), SupType_1['Item_MRP'].quantile(0.25), SupType_1['Item_MRP'].median(), SupType_1['Item_MRP'].quantile(0.75), SupType_1['Item_MRP'].max()\n",
    "\n",
    "\n",
    "# Plot boxplot for SupType_1 and swarmplot for the visuals\n",
    "sns.boxplot(ax=axes[0], x=SupType_1['Item_MRP'])\n",
    "sns.swarmplot(ax=axes[0], x=SupType_1['Item_MRP'], color=\".25\", size=3)\n",
    "axes[0].set_title('Item MRP for Supermarket Type 1')\n",
    "\n",
    "# Annotate SupType_1 boxplot (Probably not necessary but looks nicer)\n",
    "axes[0].annotate(f'Min: {min1:.2f}', xy=(min1, 0.1), xytext=(min1, 0.2))\n",
    "axes[0].annotate(f'Q1: {q1_1:.2f}', xy=(q1_1, 0.1), xytext=(q1_1, 0.2))\n",
    "axes[0].annotate(f'Median: {median1:.2f}', xy=(median1, 0.1), xytext=(median1, 0.2))\n",
    "axes[0].annotate(f'Q3: {q3_1:.2f}', xy=(q3_1, 0.1), xytext=(q3_1, 0.2))\n",
    "axes[0].annotate(f'Max: {max1:.2f}', xy=(max1, 0.1), xytext=(max1, 0.2))\n",
    "\n",
    "# Calculate five-number summary for SupType_2\n",
    "min2, q1_2, median2, q3_2, max2 = SupType_2['Item_MRP'].min(), SupType_2['Item_MRP'].quantile(0.25), SupType_2['Item_MRP'].median(), SupType_2['Item_MRP'].quantile(0.75), SupType_2['Item_MRP'].max()\n",
    "\n",
    "# Plot boxplot for SupType_2 and swarmplot for the visuals\n",
    "sns.boxplot(ax=axes[1], x=SupType_2['Item_MRP'], color=\"steelblue\", linewidth=2)\n",
    "sns.swarmplot(ax=axes[1], x=SupType_2['Item_MRP'], color=\".25\", size=3)\n",
    "axes[1].set_title('Item MRP for Supermarket Type 2')\n",
    "\n",
    "# Annotate SupType_2 boxplot\n",
    "axes[1].annotate(f'Min: {min2:.2f}', xy=(min2, 0.1), xytext=(min2, 0.2))\n",
    "axes[1].annotate(f'Q1: {q1_2:.2f}', xy=(q1_2, 0.1), xytext=(q1_2, 0.2))\n",
    "axes[1].annotate(f'Median: {median2:.2f}', xy=(median2, 0.1), xytext=(median2, 0.2))\n",
    "axes[1].annotate(f'Q3: {q3_2:.2f}', xy=(q3_2, 0.1), xytext=(q3_2, 0.2))\n",
    "axes[1].annotate(f'Max: {max2:.2f}', xy=(max2, 0.1), xytext=(max2, 0.2))\n",
    "\n",
    "# Common labels:\n",
    "for ax in axes:\n",
    "    ax.set_xlabel('Item MRP')\n",
    "    ax.set_ylabel('Value')\n",
    "\n",
    "# Display plots:\n",
    "plt.tight_layout()\n",
    "plt.show()"
   ]
  },
  {
   "cell_type": "markdown",
   "metadata": {},
   "source": [
    "### Answers for question 7: \n",
    "Supermarket Type 1 has the higher median (144.75 compared to 130.18 for Supermarket Type 2)\n",
    "No outliers according to the graphs. \n",
    "\n",
    "For Type 1: \n",
    "- IQR = Q3 - Q1 = 188.03 - 95.02 = 93.01\n",
    "- Lower Bound = Q1 - 1.5 * IQR = 95.02 - 1.5*93.01 = **-44.50**\n",
    "- Upper Bound = Q3 + 1.5 * IQR = 188.03 + 1.5*93.01 = **327.545**\n",
    "\n",
    "For Type 2: \n",
    "- IQR = 184.57 - 93.57 = 91\n",
    "- Lower Bound = 93.57 - 1.5*91 = **-42.93**\n",
    "- Upper Bound = 184.57 + 1.5*91 = **321.07**\n",
    "\n",
    "As you can see, the min and the maximum are well within the lower and upper bounds for Type 1 and Type 2. \n",
    "\n"
   ]
  },
  {
   "cell_type": "markdown",
   "metadata": {},
   "source": [
    "___\n",
    "## 8. \n",
    "### Concatenate the DataFrames SupType_1 and SupType_2 to create a new DataFrame Grc_Concat_df and sort it in ascending order based on the column Item_Outlet_Sales. What is the Outlet_Location_type of the store with the lowest sales?"
   ]
  },
  {
   "cell_type": "code",
   "execution_count": 61,
   "metadata": {},
   "outputs": [
    {
     "name": "stdout",
     "output_type": "stream",
     "text": [
      "Outlet_Location_Type of the store with the lowest sales is Tier 3 with 73.238 in sales\n"
     ]
    }
   ],
   "source": [
    "# We'll use pd.concat for this. \n",
    "\n",
    "Grc_Concat_df = pd.concat([SupType_1, SupType_2])\n",
    "\n",
    "# Sort in ascending order based on column 'Item_Outlet_Sales'\n",
    "Grc_Concat_df = Grc_Concat_df.sort_values(by='Item_Outlet_Sales', ascending=True)\n",
    "\n",
    "# The Outlet_Location_type of the store with lowest sales:\n",
    "lowest_sales_type = Grc_Concat_df.iloc[0]['Outlet_Location_Type']\n",
    "nr_sales = Grc_Concat_df.iloc[0]['Item_Outlet_Sales']\n",
    "\n",
    "print(f\"Outlet_Location_Type of the store with the lowest sales is {lowest_sales_type} with {nr_sales} in sales\")"
   ]
  },
  {
   "cell_type": "markdown",
   "metadata": {},
   "source": [
    "___\n",
    "## 9.\n",
    "### Using columns Outlet_Size and Outlet_Location_Type to create a multiple index for Grc_Concat_df. "
   ]
  },
  {
   "cell_type": "code",
   "execution_count": 62,
   "metadata": {},
   "outputs": [
    {
     "name": "stdout",
     "output_type": "stream",
     "text": [
      "                                  Item_Weight  Item_Fat_Content  \\\n",
      "Outlet_Size Outlet_Location_Type                                  \n",
      "High        Tier 3                     20.500                 0   \n",
      "Medium      Tier 3                      6.635                 1   \n",
      "            Tier 3                      6.320                 0   \n",
      "            Tier 2                      9.105                 0   \n",
      "Small       Tier 1                     19.250                 0   \n",
      "\n",
      "                                  Item_Visibility     Item_Type  Item_MRP  \\\n",
      "Outlet_Size Outlet_Location_Type                                            \n",
      "High        Tier 3                       0.143164     Household   34.9190   \n",
      "Medium      Tier 3                       0.046278  Frozen Foods   36.7506   \n",
      "            Tier 3                       0.012770          Meat   39.9822   \n",
      "            Tier 2                       0.038560     Household   33.8900   \n",
      "Small       Tier 1                       0.108030     Household   32.4558   \n",
      "\n",
      "                                  Outlet_Establishment_Year  \\\n",
      "Outlet_Size Outlet_Location_Type                              \n",
      "High        Tier 3                                     1987   \n",
      "Medium      Tier 3                                     2009   \n",
      "            Tier 3                                     2009   \n",
      "            Tier 2                                     2002   \n",
      "Small       Tier 1                                     1997   \n",
      "\n",
      "                                        Outlet_Type  Item_Outlet_Sales  \n",
      "Outlet_Size Outlet_Location_Type                                        \n",
      "High        Tier 3                Supermarket Type1            73.2380  \n",
      "Medium      Tier 3                Supermarket Type2            75.9012  \n",
      "            Tier 3                Supermarket Type2            78.5644  \n",
      "            Tier 2                Supermarket Type1            99.8700  \n",
      "Small       Tier 1                Supermarket Type1           101.8674  \n"
     ]
    }
   ],
   "source": [
    "Grc_Concat_df.set_index(['Outlet_Size', 'Outlet_Location_Type'], inplace=True)\n",
    "\n",
    "print(Grc_Concat_df.head())"
   ]
  },
  {
   "cell_type": "markdown",
   "metadata": {},
   "source": [
    "___\n",
    "## 10.\n",
    "### Cut the column Item_Weight of Grc_Concat_df into 10 buckets and compute each bucket's mean, min, max and count. "
   ]
  },
  {
   "cell_type": "code",
   "execution_count": 63,
   "metadata": {},
   "outputs": [
    {
     "name": "stdout",
     "output_type": "stream",
     "text": [
      "                         mean     min     max  count\n",
      "Item_Weight_Bucket                                  \n",
      "(4.538, 6.234]       5.623814   4.555   6.215    253\n",
      "(6.234, 7.914]       7.121807   6.235   7.905    476\n",
      "(7.914, 9.594]       8.761867   7.930   9.500    450\n",
      "(9.594, 11.273]     10.344917   9.600  11.150    362\n",
      "(11.273, 12.952]    12.081635  11.300  12.850    419\n",
      "(12.952, 14.632]    13.716193  13.000  14.600    352\n",
      "(14.632, 16.312]    15.495976  14.650  16.250    410\n",
      "(16.312, 17.991]    17.172672  16.350  17.850    408\n",
      "(17.991, 19.671]    18.838005  18.000  19.600    396\n",
      "(19.671, 21.35]     20.357012  19.700  21.350    328\n"
     ]
    }
   ],
   "source": [
    "# We'll use pd.cut for this\n",
    "\n",
    "# Cut the df into 10 buckets (or bins)\n",
    "Grc_Concat_df['Item_Weight_Bucket'] = pd.cut(Grc_Concat_df['Item_Weight'], bins=10)\n",
    "\n",
    "# Group the DF by the new buckets and get the required stats\n",
    "bucket_stats = Grc_Concat_df.groupby('Item_Weight_Bucket')['Item_Weight'].agg(['mean', 'min', 'max', 'count'])\n",
    "\n",
    "# Show the stats for each bucket:\n",
    "print(bucket_stats)"
   ]
  },
  {
   "cell_type": "code",
   "execution_count": null,
   "metadata": {},
   "outputs": [],
   "source": []
  }
 ],
 "metadata": {
  "kernelspec": {
   "display_name": "envForAI",
   "language": "python",
   "name": "python3"
  },
  "language_info": {
   "codemirror_mode": {
    "name": "ipython",
    "version": 3
   },
   "file_extension": ".py",
   "mimetype": "text/x-python",
   "name": "python",
   "nbconvert_exporter": "python",
   "pygments_lexer": "ipython3",
   "version": "3.8.18"
  }
 },
 "nbformat": 4,
 "nbformat_minor": 2
}
