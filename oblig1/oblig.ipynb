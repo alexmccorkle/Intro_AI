{
 "cells": [
  {
   "cell_type": "code",
   "execution_count": 78,
   "metadata": {},
   "outputs": [],
   "source": [
    "# Necessary Imports:\n",
    "%matplotlib inline\n",
    "import pandas as pd\n",
    "import numpy as np\n",
    "import matplotlib.pyplot as plt\n",
    "import seaborn as sns\n",
    "\n",
    "## modules for machine learning\n",
    "from sklearn.model_selection import train_test_split, GridSearchCV\n",
    "from sklearn.neighbors import KNeighborsClassifier\n",
    "from sklearn.svm import SVC\n",
    "from sklearn.ensemble import RandomForestClassifier\n",
    "from sklearn.preprocessing import StandardScaler\n",
    "from sklearn.metrics import confusion_matrix, accuracy_score\n"
   ]
  },
  {
   "cell_type": "markdown",
   "metadata": {},
   "source": [
    "### Question 1: Read the CSV file in Pandas and create a DataFrame named Grc_df. What is the number of rows and columns in Grc_df? Print the first 10 and last 10 rows of Grc_df.\n"
   ]
  },
  {
   "cell_type": "code",
   "execution_count": 79,
   "metadata": {},
   "outputs": [
    {
     "name": "stdout",
     "output_type": "stream",
     "text": [
      "<class 'pandas.core.frame.DataFrame'>\n",
      "RangeIndex: 5000 entries, 0 to 4999\n",
      "Data columns (total 12 columns):\n",
      " #   Column                     Non-Null Count  Dtype  \n",
      "---  ------                     --------------  -----  \n",
      " 0   Item_Identifier            5000 non-null   object \n",
      " 1   Item_Weight                4182 non-null   float64\n",
      " 2   Item_Fat_Content           5000 non-null   object \n",
      " 3   Item_Visibility            5000 non-null   float64\n",
      " 4   Item_Type                  5000 non-null   object \n",
      " 5   Item_MRP                   5000 non-null   float64\n",
      " 6   Outlet_Identifier          5000 non-null   object \n",
      " 7   Outlet_Establishment_Year  5000 non-null   int64  \n",
      " 8   Outlet_Size                3561 non-null   object \n",
      " 9   Outlet_Location_Type       5000 non-null   object \n",
      " 10  Outlet_Type                5000 non-null   object \n",
      " 11  Item_Outlet_Sales          5000 non-null   float64\n",
      "dtypes: float64(4), int64(1), object(7)\n",
      "memory usage: 468.9+ KB\n"
     ]
    }
   ],
   "source": [
    "# Reading CSV file:\n",
    "Grc_df = pd.read_csv('./Grocery_dataset.csv')\n",
    "\n",
    "\n",
    "Grc_df.info() # Tells us there are 5000 rows(entries) and 12 columns\n",
    "\n"
   ]
  },
  {
   "cell_type": "code",
   "execution_count": 80,
   "metadata": {},
   "outputs": [
    {
     "name": "stdout",
     "output_type": "stream",
     "text": [
      "  Item_Identifier  Item_Weight Item_Fat_Content  Item_Visibility  \\\n",
      "0           FDA15        9.300          Low Fat         0.016047   \n",
      "1           DRC01        5.920          Regular         0.019278   \n",
      "2           FDN15       17.500          Low Fat         0.016760   \n",
      "3           FDX07       19.200          Regular         0.000000   \n",
      "4           NCD19        8.930          Low Fat         0.000000   \n",
      "5           FDP36       10.395          Regular         0.000000   \n",
      "6           FDO10       13.650          Regular         0.012741   \n",
      "7           FDP10          NaN          Low Fat         0.127470   \n",
      "8           FDH17       16.200          Regular         0.016687   \n",
      "9           FDU28       19.200          Regular         0.094450   \n",
      "\n",
      "               Item_Type  Item_MRP Outlet_Identifier  \\\n",
      "0                  Dairy  249.8092            OUT049   \n",
      "1            Soft Drinks   48.2692            OUT018   \n",
      "2                   Meat  141.6180            OUT049   \n",
      "3  Fruits and Vegetables  182.0950            OUT010   \n",
      "4              Household   53.8614            OUT013   \n",
      "5           Baking Goods   51.4008            OUT018   \n",
      "6            Snack Foods   57.6588            OUT013   \n",
      "7            Snack Foods  107.7622            OUT027   \n",
      "8           Frozen Foods   96.9726            OUT045   \n",
      "9           Frozen Foods  187.8214            OUT017   \n",
      "\n",
      "   Outlet_Establishment_Year Outlet_Size Outlet_Location_Type  \\\n",
      "0                       1999      Medium               Tier 1   \n",
      "1                       2009      Medium               Tier 3   \n",
      "2                       1999      Medium               Tier 1   \n",
      "3                       1998         NaN               Tier 3   \n",
      "4                       1987        High               Tier 3   \n",
      "5                       2009      Medium               Tier 3   \n",
      "6                       1987        High               Tier 3   \n",
      "7                       1985      Medium               Tier 3   \n",
      "8                       2002         NaN               Tier 2   \n",
      "9                       2007         NaN               Tier 2   \n",
      "\n",
      "         Outlet_Type  Item_Outlet_Sales  \n",
      "0  Supermarket Type1          3735.1380  \n",
      "1  Supermarket Type2           443.4228  \n",
      "2  Supermarket Type1          2097.2700  \n",
      "3      Grocery Store           732.3800  \n",
      "4  Supermarket Type1           994.7052  \n",
      "5  Supermarket Type2           556.6088  \n",
      "6  Supermarket Type1           343.5528  \n",
      "7  Supermarket Type3          4022.7636  \n",
      "8  Supermarket Type1          1076.5986  \n",
      "9  Supermarket Type1          4710.5350  \n",
      "     Item_Identifier  Item_Weight Item_Fat_Content  Item_Visibility  \\\n",
      "4990           FDE46        18.60          Low Fat         0.015859   \n",
      "4991           NCQ53        17.60          Low Fat         0.018905   \n",
      "4992           NCN42        20.25          Low Fat         0.014281   \n",
      "4993           DRH11         5.98          Low Fat         0.075675   \n",
      "4994           NCI42        18.75          Low Fat         0.010382   \n",
      "4995           FDT07         5.82          Regular         0.077476   \n",
      "4996           DRL60         8.52          Low Fat         0.027059   \n",
      "4997           FDG20        15.50          Regular         0.126200   \n",
      "4998           FDF56        16.70          Regular         0.119462   \n",
      "4999           FDV33         9.60          Regular         0.027455   \n",
      "\n",
      "                  Item_Type  Item_MRP Outlet_Identifier  \\\n",
      "4990            Snack Foods  152.9366            OUT017   \n",
      "4991     Health and Hygiene  234.6590            OUT046   \n",
      "4992              Household  148.0418            OUT018   \n",
      "4993            Hard Drinks   53.3614            OUT049   \n",
      "4994              Household  207.8954            OUT049   \n",
      "4995  Fruits and Vegetables  255.3330            OUT045   \n",
      "4996            Soft Drinks  153.3682            OUT046   \n",
      "4997  Fruits and Vegetables  178.4028            OUT018   \n",
      "4998  Fruits and Vegetables  182.7976            OUT046   \n",
      "4999            Snack Foods  258.1304            OUT018   \n",
      "\n",
      "      Outlet_Establishment_Year Outlet_Size Outlet_Location_Type  \\\n",
      "4990                       2007         NaN               Tier 2   \n",
      "4991                       1997       Small               Tier 1   \n",
      "4992                       2009      Medium               Tier 3   \n",
      "4993                       1999      Medium               Tier 1   \n",
      "4994                       1999      Medium               Tier 1   \n",
      "4995                       2002         NaN               Tier 2   \n",
      "4996                       1997       Small               Tier 1   \n",
      "4997                       2009      Medium               Tier 3   \n",
      "4998                       1997       Small               Tier 1   \n",
      "4999                       2009      Medium               Tier 3   \n",
      "\n",
      "            Outlet_Type  Item_Outlet_Sales  \n",
      "4990  Supermarket Type1           453.4098  \n",
      "4991  Supermarket Type1          8508.9240  \n",
      "4992  Supermarket Type2          1177.1344  \n",
      "4993  Supermarket Type1           331.5684  \n",
      "4994  Supermarket Type1          2292.3494  \n",
      "4995  Supermarket Type1          4870.3270  \n",
      "4996  Supermarket Type1           914.8092  \n",
      "4997  Supermarket Type2          1239.7196  \n",
      "4998  Supermarket Type1          1810.9760  \n",
      "4999  Supermarket Type2          2324.9736  \n"
     ]
    }
   ],
   "source": [
    "# Printing both first and last 10 rows of df: (Get's truncated, might need to view as scrollable to see all info)\n",
    "print(Grc_df.head(10))\n",
    "print(Grc_df.tail(10))"
   ]
  },
  {
   "cell_type": "markdown",
   "metadata": {},
   "source": [
    "## 2. Are there any null values in the Grc_df? If yes, then in which columns and how many? Finally handle these null values using any strategy shown during the labs."
   ]
  },
  {
   "cell_type": "code",
   "execution_count": 81,
   "metadata": {},
   "outputs": [
    {
     "name": "stdout",
     "output_type": "stream",
     "text": [
      "Item_Identifier                 0\n",
      "Item_Weight                   818\n",
      "Item_Fat_Content                0\n",
      "Item_Visibility                 0\n",
      "Item_Type                       0\n",
      "Item_MRP                        0\n",
      "Outlet_Identifier               0\n",
      "Outlet_Establishment_Year       0\n",
      "Outlet_Size                  1439\n",
      "Outlet_Location_Type            0\n",
      "Outlet_Type                     0\n",
      "Item_Outlet_Sales               0\n",
      "dtype: int64\n"
     ]
    }
   ],
   "source": [
    "# Identifying the different null values:\n",
    "print(Grc_df.isna().sum())\n",
    "\n",
    "# 818 null values for Item_Weight and 1439 for Outlet_Size"
   ]
  },
  {
   "cell_type": "code",
   "execution_count": 82,
   "metadata": {},
   "outputs": [
    {
     "name": "stdout",
     "output_type": "stream",
     "text": [
      "Item_Identifier              0\n",
      "Item_Weight                  0\n",
      "Item_Fat_Content             0\n",
      "Item_Visibility              0\n",
      "Item_Type                    0\n",
      "Item_MRP                     0\n",
      "Outlet_Identifier            0\n",
      "Outlet_Establishment_Year    0\n",
      "Outlet_Size                  0\n",
      "Outlet_Location_Type         0\n",
      "Outlet_Type                  0\n",
      "Item_Outlet_Sales            0\n",
      "dtype: int64\n"
     ]
    }
   ],
   "source": [
    "# Since it's quite a lot of null values for Item_Weight and Outlet_Size I will fill them instead of dropping them\n",
    "# Filling Item_Weight: Using mean since it's numerical data\n",
    "Grc_df['Item_Weight'].fillna(Grc_df['Item_Weight'].mean(), inplace=True)\n",
    "\n",
    "# Filling Outlet_size: Using Mode since this is categorical data\n",
    "Grc_df['Outlet_Size'].fillna(Grc_df['Outlet_Size'].mode()[0], inplace = True)\n",
    "\n",
    "print(Grc_df.isna().sum())"
   ]
  },
  {
   "cell_type": "code",
   "execution_count": 83,
   "metadata": {},
   "outputs": [
    {
     "name": "stdout",
     "output_type": "stream",
     "text": [
      "Number of Unique Sizes: 3\n",
      "\n",
      " Frequency of each outlet size value: \n",
      " Outlet_Size\n",
      "Medium    3044\n",
      "Small     1398\n",
      "High       558\n",
      "Name: count, dtype: int64\n",
      "\n",
      " Maximum = Medium and minimum = High\n"
     ]
    }
   ],
   "source": [
    "\n",
    "# Finding the number of uniques:\n",
    "unique_sizes = Grc_df['Outlet_Size'].nunique()\n",
    "print(f\"Number of Unique Sizes: {unique_sizes}\")\n",
    "\n",
    "# Finding the count of each unique:\n",
    "outlet_size_counts = Grc_df['Outlet_Size'].value_counts()\n",
    "print(f\"\\n Frequency of each outlet size value: \\n {outlet_size_counts}\")\n",
    "\n",
    "# Calculating Maximum and Minimum (Assuming the assignment question meant to find the max/min in terms of frequency):\n",
    "maximum_outlet = outlet_size_counts.idxmax()\n",
    "minimum_outlet = outlet_size_counts.idxmin() \n",
    "\n",
    "print(f\"\\n Maximum = {maximum_outlet} and minimum = {minimum_outlet}\")"
   ]
  },
  {
   "cell_type": "markdown",
   "metadata": {},
   "source": [
    "## 4. How many unique Item Fat Content types are in the Grc_df? List them. Do you see any issues with the Fat Content types? If yes, then handle this issue. \n"
   ]
  },
  {
   "cell_type": "code",
   "execution_count": 84,
   "metadata": {},
   "outputs": [
    {
     "name": "stdout",
     "output_type": "stream",
     "text": [
      "Number of Unique Fat Contents: 5\n",
      "\n",
      " Frequency of each fat content: \n",
      " Item_Fat_Content\n",
      "Low Fat    3008\n",
      "Regular    1679\n",
      "LF          183\n",
      "reg          68\n",
      "low fat      62\n",
      "Name: count, dtype: int64\n"
     ]
    }
   ],
   "source": [
    "\n",
    "# Finding the number of uniques:\n",
    "unique_fat_sizes = Grc_df['Item_Fat_Content'].nunique()\n",
    "print(f\"Number of Unique Fat Contents: {unique_fat_sizes}\")\n",
    "\n",
    "# Finding the count of each unique:\n",
    "fat_counts = Grc_df['Item_Fat_Content'].value_counts()\n",
    "print(f\"\\n Frequency of each fat content: \\n {fat_counts}\")\n"
   ]
  },
  {
   "cell_type": "code",
   "execution_count": 85,
   "metadata": {},
   "outputs": [
    {
     "name": "stdout",
     "output_type": "stream",
     "text": [
      "Number of Unique Fat Contents: 2\n",
      "\n",
      " Frequency of each fat content: \n",
      " Item_Fat_Content\n",
      "0    3253\n",
      "1    1747\n",
      "Name: count, dtype: int64\n"
     ]
    }
   ],
   "source": [
    "\n",
    "# Issue is that there are 3 unique categories for Low Fat (Low Fat, LF and low fat) and 2 unique categories for Regular (Regular, reg)\n",
    "# To fix we need to turn this into two categories instead of 5.\n",
    "\n",
    "Grc_df['Item_Fat_Content'] = Grc_df['Item_Fat_Content'].replace({\n",
    "  'low fat' : 'Low Fat',\n",
    "  'LF' : 'Low Fat', \n",
    "  'reg' : 'Regular'\n",
    "})\n",
    "\n",
    "# Since there are now only two categories : Low Fat and Regular, we might want to convert to Binary for potential machine learning use:\n",
    "Grc_df['Item_Fat_Content'] = Grc_df['Item_Fat_Content'].replace({\n",
    "  'Low Fat' : 0,\n",
    "  'Regular' : 1\n",
    "})\n",
    "\n",
    "# Finding the number of uniques:\n",
    "unique_fat_sizes = Grc_df['Item_Fat_Content'].nunique()\n",
    "print(f\"Number of Unique Fat Contents: {unique_fat_sizes}\")\n",
    "\n",
    "# Finding the count of each unique:\n",
    "fat_counts = Grc_df['Item_Fat_Content'].value_counts()\n",
    "print(f\"\\n Frequency of each fat content: \\n {fat_counts}\")\n"
   ]
  },
  {
   "cell_type": "markdown",
   "metadata": {},
   "source": [
    "## 5. Drop the columns having index values of 0,6 and create a new Dataframe Grc_new_df."
   ]
  },
  {
   "cell_type": "code",
   "execution_count": 86,
   "metadata": {},
   "outputs": [
    {
     "name": "stdout",
     "output_type": "stream",
     "text": [
      "<class 'pandas.core.frame.DataFrame'>\n",
      "RangeIndex: 5000 entries, 0 to 4999\n",
      "Data columns (total 10 columns):\n",
      " #   Column                     Non-Null Count  Dtype  \n",
      "---  ------                     --------------  -----  \n",
      " 0   Item_Weight                5000 non-null   float64\n",
      " 1   Item_Fat_Content           5000 non-null   int64  \n",
      " 2   Item_Visibility            5000 non-null   float64\n",
      " 3   Item_Type                  5000 non-null   object \n",
      " 4   Item_MRP                   5000 non-null   float64\n",
      " 5   Outlet_Establishment_Year  5000 non-null   int64  \n",
      " 6   Outlet_Size                5000 non-null   object \n",
      " 7   Outlet_Location_Type       5000 non-null   object \n",
      " 8   Outlet_Type                5000 non-null   object \n",
      " 9   Item_Outlet_Sales          5000 non-null   float64\n",
      "dtypes: float64(4), int64(2), object(4)\n",
      "memory usage: 390.8+ KB\n",
      "None\n"
     ]
    }
   ],
   "source": [
    "# To drop columns with index value 0 and 6 we use the drop method.\n",
    "\n",
    "Grc_new_df = Grc_df.drop(columns=Grc_df.columns[[0,6]])\n",
    "\n",
    "print(Grc_new_df.info())\n",
    "# As you can see, Item_Idenfitier(0) and Outlet_Idenfitier(1) are removed\n",
    "\n"
   ]
  },
  {
   "cell_type": "markdown",
   "metadata": {},
   "source": [
    "## 6. Using different supermarket type listed in the column Outlet_Type create two different Dataframes from Grc_new_df. Name these Dataframes as SupType_1 and SupType_2. "
   ]
  },
  {
   "cell_type": "code",
   "execution_count": 89,
   "metadata": {},
   "outputs": [
    {
     "name": "stdout",
     "output_type": "stream",
     "text": [
      "<class 'pandas.core.frame.DataFrame'>\n",
      "Index: 3328 entries, 0 to 4998\n",
      "Data columns (total 10 columns):\n",
      " #   Column                     Non-Null Count  Dtype  \n",
      "---  ------                     --------------  -----  \n",
      " 0   Item_Weight                3328 non-null   float64\n",
      " 1   Item_Fat_Content           3328 non-null   int64  \n",
      " 2   Item_Visibility            3328 non-null   float64\n",
      " 3   Item_Type                  3328 non-null   object \n",
      " 4   Item_MRP                   3328 non-null   float64\n",
      " 5   Outlet_Establishment_Year  3328 non-null   int64  \n",
      " 6   Outlet_Size                3328 non-null   object \n",
      " 7   Outlet_Location_Type       3328 non-null   object \n",
      " 8   Outlet_Type                3328 non-null   object \n",
      " 9   Item_Outlet_Sales          3328 non-null   float64\n",
      "dtypes: float64(4), int64(2), object(4)\n",
      "memory usage: 286.0+ KB\n",
      "SupType_1: \n",
      " None\n",
      "<class 'pandas.core.frame.DataFrame'>\n",
      "Index: 526 entries, 1 to 4999\n",
      "Data columns (total 10 columns):\n",
      " #   Column                     Non-Null Count  Dtype  \n",
      "---  ------                     --------------  -----  \n",
      " 0   Item_Weight                526 non-null    float64\n",
      " 1   Item_Fat_Content           526 non-null    int64  \n",
      " 2   Item_Visibility            526 non-null    float64\n",
      " 3   Item_Type                  526 non-null    object \n",
      " 4   Item_MRP                   526 non-null    float64\n",
      " 5   Outlet_Establishment_Year  526 non-null    int64  \n",
      " 6   Outlet_Size                526 non-null    object \n",
      " 7   Outlet_Location_Type       526 non-null    object \n",
      " 8   Outlet_Type                526 non-null    object \n",
      " 9   Item_Outlet_Sales          526 non-null    float64\n",
      "dtypes: float64(4), int64(2), object(4)\n",
      "memory usage: 45.2+ KB\n",
      "SupType_2: \n",
      " None\n"
     ]
    }
   ],
   "source": [
    "# Saving two new df's based on supermarket type:\n",
    "SupType_1 = Grc_new_df[Grc_new_df['Outlet_Type'] == 'Supermarket Type1']\n",
    "SupType_2 = Grc_new_df[Grc_new_df['Outlet_Type'] == 'Supermarket Type2']\n",
    "\n",
    "\n",
    "print(f\"SupType_1: \\n {SupType_1.info()}\")\n",
    "print(f\"SupType_2: \\n {SupType_2.info()}\")"
   ]
  },
  {
   "cell_type": "markdown",
   "metadata": {},
   "source": []
  }
 ],
 "metadata": {
  "kernelspec": {
   "display_name": "envForAI",
   "language": "python",
   "name": "python3"
  },
  "language_info": {
   "codemirror_mode": {
    "name": "ipython",
    "version": 3
   },
   "file_extension": ".py",
   "mimetype": "text/x-python",
   "name": "python",
   "nbconvert_exporter": "python",
   "pygments_lexer": "ipython3",
   "version": "3.8.18"
  }
 },
 "nbformat": 4,
 "nbformat_minor": 2
}
